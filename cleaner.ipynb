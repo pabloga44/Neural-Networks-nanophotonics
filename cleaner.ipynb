{
  "nbformat": 4,
  "nbformat_minor": 0,
  "metadata": {
    "colab": {
      "name": "Untitled7.ipynb",
      "provenance": [],
      "collapsed_sections": [],
      "mount_file_id": "https://github.com/pabloga44/TFG/blob/main/cleaner.ipynb",
      "authorship_tag": "ABX9TyPQyoRb4WGMT9dgOm2pC3vu",
      "include_colab_link": true
    },
    "kernelspec": {
      "name": "python3",
      "display_name": "Python 3"
    },
    "language_info": {
      "name": "python"
    }
  },
  "cells": [
    {
      "cell_type": "markdown",
      "metadata": {
        "id": "view-in-github",
        "colab_type": "text"
      },
      "source": [
        "<a href=\"https://colab.research.google.com/github/pabloga44/TFG/blob/main/cleaner.ipynb\" target=\"_parent\"><img src=\"https://colab.research.google.com/assets/colab-badge.svg\" alt=\"Open In Colab\"/></a>"
      ]
    },
    {
      "cell_type": "code",
      "metadata": {
        "id": "22mIwbxmYSra",
        "outputId": "17e0a2e7-b4eb-4c75-8eb7-e79bf8c60a05",
        "colab": {
          "base_uri": "https://localhost:8080/"
        }
      },
      "source": [
        "import numpy as np\n",
        "import sys\n",
        "import os\n",
        "from google.colab import drive\n",
        "drive.mount('/content/drive')"
      ],
      "execution_count": 1,
      "outputs": [
        {
          "output_type": "stream",
          "text": [
            "Drive already mounted at /content/drive; to attempt to forcibly remount, call drive.mount(\"/content/drive\", force_remount=True).\n"
          ],
          "name": "stdout"
        }
      ]
    },
    {
      "cell_type": "code",
      "metadata": {
        "id": "iUBbL39FCWLG",
        "colab": {
          "base_uri": "https://localhost:8080/"
        },
        "outputId": "29407a6b-bca0-43ca-f641-1778f7f9c1f1"
      },
      "source": [
        "! git clone https://github.com/pabloga44/TFG"
      ],
      "execution_count": 2,
      "outputs": [
        {
          "output_type": "stream",
          "text": [
            "Cloning into 'TFG'...\n",
            "remote: Enumerating objects: 63, done.\u001b[K\n",
            "remote: Counting objects: 100% (63/63), done.\u001b[K\n",
            "remote: Compressing objects: 100% (58/58), done.\u001b[K\n",
            "remote: Total 63 (delta 26), reused 0 (delta 0), pack-reused 0\u001b[K\n",
            "Unpacking objects: 100% (63/63), done.\n"
          ],
          "name": "stdout"
        }
      ]
    },
    {
      "cell_type": "code",
      "metadata": {
        "id": "yfih15xh__PR"
      },
      "source": [
        "sys.path.insert(0,'/content/TFG')\n",
        "import main as mn"
      ],
      "execution_count": 4,
      "outputs": []
    },
    {
      "cell_type": "code",
      "metadata": {
        "id": "-AtYVAQeKvfC"
      },
      "source": [
        "def clean_data(x,y):\n",
        "    # Elimina las filas de NaN y te dice cuales son los parámetros que han dado error\n",
        "    nans = [];\n",
        "    for index in range(len(y)):\n",
        "\n",
        "      if False in (y[index]==y[index]): #La forma de encontrar un NaN es porque (NaN==NaN)=>False.\n",
        "        nans.append(index)\n",
        "        print('These params caused NaN, so were removed:',x[index])\n",
        "    print(nans)\n",
        "    for i in reversed(nans):\n",
        "      x = np.delete(x,i,axis=0)\n",
        "      y = np.delete(y,i,axis=0)\n",
        "\n",
        "    return x,y"
      ],
      "execution_count": 34,
      "outputs": []
    },
    {
      "cell_type": "code",
      "metadata": {
        "colab": {
          "base_uri": "https://localhost:8080/"
        },
        "id": "rBId5w7CBdHV",
        "outputId": "fba0bdfa-8a80-457b-b66d-3813f03d2632"
      },
      "source": [
        "x = np.loadtxt('/content/TFG/data/Input_all.txt',dtype=float)\n",
        "y = np.loadtxt('/content/TFG/data/Output_all.txt',dtype=float)\n",
        "\n",
        "print(x.shape)\n",
        "print(y.shape,'\\n')\n",
        "      \n",
        "x,y = clean_data(x,y)\n",
        "\n",
        "print('\\n')\n",
        "print(x.shape)\n",
        "print(y.shape)\n",
        "\n",
        "x,y = clean_data(x,y)\n",
        "\n",
        "print('\\n')\n",
        "print(x.shape)\n",
        "print(y.shape)"
      ],
      "execution_count": 35,
      "outputs": [
        {
          "output_type": "stream",
          "text": [
            "(23046, 3)\n",
            "(23046, 8) \n",
            "\n",
            "These params caused NaN, so were removed: [1.5e-08 2.3e-08 5.2e-01]\n",
            "These params caused NaN, so were removed: [2.7e-08 3.7e-08 5.2e-01]\n",
            "These params caused NaN, so were removed: [2.70e-08 4.10e-08 1.05e+00]\n",
            "These params caused NaN, so were removed: [2.90e-08 4.10e-08 1.05e+00]\n",
            "These params caused NaN, so were removed: [3.1e-08 3.7e-08 5.2e-01]\n",
            "[82, 20221, 20265, 20569, 20829]\n",
            "\n",
            "\n",
            "(23041, 3)\n",
            "(23041, 8)\n",
            "[]\n",
            "\n",
            "\n",
            "(23041, 3)\n",
            "(23041, 8)\n"
          ],
          "name": "stdout"
        }
      ]
    },
    {
      "cell_type": "code",
      "metadata": {
        "id": "hqalEOr5EXh3"
      },
      "source": [
        "def get_data(file_x,file_y, clean=True):\n",
        "  # Función que recibe los archivos de texto y devuelve los datos en ndarrays\n",
        "  # Independiente del número de parámetros\n",
        "  # Puede devolverlos ya limpios\n",
        "  x = np.loadtxt(str(file_x),dtype=float)\n",
        "  y = np.loadtxt(str(file_y),dtype=float)\n",
        "\n",
        "  if clean:\n",
        "    x,y = clean_data(x,y)\n",
        "  \n",
        "  return x,y"
      ],
      "execution_count": 26,
      "outputs": []
    },
    {
      "cell_type": "code",
      "metadata": {
        "id": "rLrdLFMaZDiw",
        "outputId": "3a171a55-3b72-423c-efe5-5f9ca67163d5",
        "colab": {
          "base_uri": "https://localhost:8080/"
        }
      },
      "source": [
        "fileIn = '/content/TFG/data/Input_all.txt'\n",
        "fileOut = '/content/TFG/data/Output_all.txt'\n",
        "x,y = get_data(fileIn,fileOut,clean=True)\n",
        "\n",
        "print(y[4])"
      ],
      "execution_count": 24,
      "outputs": [
        {
          "output_type": "stream",
          "text": [
            "These params caused NaN, so were removed: [1.5e-08 2.3e-08 5.2e-01]\n",
            "These params caused NaN, so were removed: [2.7e-08 3.7e-08 5.2e-01]\n",
            "These params caused NaN, so were removed: [2.70e-08 4.10e-08 1.05e+00]\n",
            "These params caused NaN, so were removed: [2.90e-08 4.10e-08 1.05e+00]\n",
            "These params caused NaN, so were removed: [3.1e-08 3.7e-08 5.2e-01]\n",
            "[ 0.09270767  0.5435296   1.61105     3.476749    6.191013    9.633408\n",
            " 13.52135    17.4818    ]\n"
          ],
          "name": "stdout"
        }
      ]
    },
    {
      "cell_type": "code",
      "metadata": {
        "id": "CYfqT1TDJ3vT"
      },
      "source": [
        ""
      ],
      "execution_count": null,
      "outputs": []
    }
  ]
}