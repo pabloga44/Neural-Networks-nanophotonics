{
  "nbformat": 4,
  "nbformat_minor": 0,
  "metadata": {
    "colab": {
      "name": "Untitled7.ipynb",
      "provenance": [],
      "collapsed_sections": [],
      "mount_file_id": "https://github.com/pabloga44/TFG/blob/main/cleaner.ipynb",
      "authorship_tag": "ABX9TyNjfUFvkqliayT7NakehooN",
      "include_colab_link": true
    },
    "kernelspec": {
      "name": "python3",
      "display_name": "Python 3"
    },
    "language_info": {
      "name": "python"
    }
  },
  "cells": [
    {
      "cell_type": "markdown",
      "metadata": {
        "id": "view-in-github",
        "colab_type": "text"
      },
      "source": [
        "<a href=\"https://colab.research.google.com/github/pabloga44/TFG/blob/main/cleaner.ipynb\" target=\"_parent\"><img src=\"https://colab.research.google.com/assets/colab-badge.svg\" alt=\"Open In Colab\"/></a>"
      ]
    },
    {
      "cell_type": "code",
      "metadata": {
        "id": "22mIwbxmYSra"
      },
      "source": [
        "import numpy as np"
      ],
      "execution_count": null,
      "outputs": []
    },
    {
      "cell_type": "code",
      "metadata": {
        "id": "iUBbL39FCWLG"
      },
      "source": [
        "! git clone https://github.com/pabloga44/TFG"
      ],
      "execution_count": null,
      "outputs": []
    },
    {
      "cell_type": "code",
      "metadata": {
        "id": "yfih15xh__PR"
      },
      "source": [
        "open('/content/TFG/main.py','wb')\n",
        "import main as mn"
      ],
      "execution_count": null,
      "outputs": []
    },
    {
      "cell_type": "code",
      "metadata": {
        "id": "-AtYVAQeKvfC"
      },
      "source": [
        "def clean_data(x,y):\n",
        "    # Elimina las filas de NaN y te dice cuales son los parámetros que han dado error\n",
        "    \n",
        "    \n",
        "    nans = [];\n",
        "    for index in range(len(y)):\n",
        "\n",
        "      if False in (y[index]==y[index]): #La forma de encontrar un NaN es porque (NaN==NaN)=>False.\n",
        "        nans.append(index)\n",
        "        print(x[index])\n",
        "\n",
        "    for i in nans:\n",
        "      x = np.delete(x,i,axis=0)\n",
        "      y = np.delete(y,i,axis=0)\n",
        "\n",
        "    return x,y"
      ],
      "execution_count": null,
      "outputs": []
    },
    {
      "cell_type": "code",
      "metadata": {
        "colab": {
          "base_uri": "https://localhost:8080/"
        },
        "id": "rBId5w7CBdHV",
        "outputId": "96488de4-9417-4e74-e91a-2cbb3287ba00"
      },
      "source": [
        "x = np.loadtxt('/content/TFG/data/Input_all.txt',dtype=float)\n",
        "y = np.loadtxt('/content/TFG/data/Output_all.txt',dtype=float)\n",
        "\n",
        "print(x.shape)\n",
        "print(y.shape,'\\n')\n",
        "      \n",
        "x,y = clean_data(x,y)\n",
        "\n",
        "print('\\n')\n",
        "print(x.shape)\n",
        "print(y.shape)\n"
      ],
      "execution_count": null,
      "outputs": [
        {
          "output_type": "stream",
          "text": [
            "(23046, 3)\n",
            "(23046, 8) \n",
            "\n",
            "[1.5e-08 2.3e-08 5.2e-01]\n",
            "[2.7e-08 3.7e-08 5.2e-01]\n",
            "[2.70e-08 4.10e-08 1.05e+00]\n",
            "[2.90e-08 4.10e-08 1.05e+00]\n",
            "[3.1e-08 3.7e-08 5.2e-01]\n",
            "\n",
            "\n",
            "(23041, 3)\n",
            "(23041, 8)\n"
          ],
          "name": "stdout"
        }
      ]
    },
    {
      "cell_type": "code",
      "metadata": {
        "id": "rLrdLFMaZDiw"
      },
      "source": [
        ""
      ],
      "execution_count": null,
      "outputs": []
    }
  ]
}