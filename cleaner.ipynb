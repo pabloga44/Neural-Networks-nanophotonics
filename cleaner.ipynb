{
  "nbformat": 4,
  "nbformat_minor": 0,
  "metadata": {
    "colab": {
      "name": "Untitled7.ipynb",
      "provenance": [],
      "collapsed_sections": [],
      "authorship_tag": "ABX9TyNcJotOUbttPVbta+CLVR+m",
      "include_colab_link": true
    },
    "kernelspec": {
      "name": "python3",
      "display_name": "Python 3"
    },
    "language_info": {
      "name": "python"
    }
  },
  "cells": [
    {
      "cell_type": "markdown",
      "metadata": {
        "id": "view-in-github",
        "colab_type": "text"
      },
      "source": [
        "<a href=\"https://colab.research.google.com/github/pabloga44/TFG/blob/main/cleaner.ipynb\" target=\"_parent\"><img src=\"https://colab.research.google.com/assets/colab-badge.svg\" alt=\"Open In Colab\"/></a>"
      ]
    },
    {
      "cell_type": "code",
      "metadata": {
        "id": "-AtYVAQeKvfC"
      },
      "source": [
        "def cleaner(file_In,file_Out):\n",
        "    # Quita los NaN de los archivos y te devuelve los que tenian error\n",
        "    Out = np.loadtxt(str(file_Out),dtype='float',delimiter=',')\n",
        "    In = np.loadtxt(str(file_In),dtype='float',delimiter=',')\n",
        "\n",
        "    print(In)"
      ],
      "execution_count": 6,
      "outputs": []
    },
    {
      "cell_type": "code",
      "metadata": {
        "id": "PKIJSyB3T1eO"
      },
      "source": [
        "cleaner()"
      ],
      "execution_count": null,
      "outputs": []
    }
  ]
}