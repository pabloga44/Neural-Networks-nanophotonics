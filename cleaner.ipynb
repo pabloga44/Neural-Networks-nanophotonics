{
  "nbformat": 4,
  "nbformat_minor": 0,
  "metadata": {
    "colab": {
      "name": "Untitled7.ipynb",
      "provenance": [],
      "collapsed_sections": [],
      "mount_file_id": "https://github.com/pabloga44/TFG/blob/main/cleaner.ipynb",
      "authorship_tag": "ABX9TyPirH6U6cHEt3ooevjaeQoG",
      "include_colab_link": true
    },
    "kernelspec": {
      "name": "python3",
      "display_name": "Python 3"
    },
    "language_info": {
      "name": "python"
    }
  },
  "cells": [
    {
      "cell_type": "markdown",
      "metadata": {
        "id": "view-in-github",
        "colab_type": "text"
      },
      "source": [
        "<a href=\"https://colab.research.google.com/github/pabloga44/TFG/blob/main/cleaner.ipynb\" target=\"_parent\"><img src=\"https://colab.research.google.com/assets/colab-badge.svg\" alt=\"Open In Colab\"/></a>"
      ]
    },
    {
      "cell_type": "code",
      "metadata": {
        "id": "22mIwbxmYSra"
      },
      "source": [
        "import numpy as np"
      ],
      "execution_count": 107,
      "outputs": []
    },
    {
      "cell_type": "code",
      "metadata": {
        "colab": {
          "base_uri": "https://localhost:8080/"
        },
        "id": "iUBbL39FCWLG",
        "outputId": "d03584ef-b755-4794-f9f5-5704a8fa43ac"
      },
      "source": [
        "! git clone https://bitbucket.org/pabloga44/TFG.git"
      ],
      "execution_count": 22,
      "outputs": [
        {
          "output_type": "stream",
          "text": [
            "fatal: destination path 'TFG' already exists and is not an empty directory.\n"
          ],
          "name": "stdout"
        }
      ]
    },
    {
      "cell_type": "code",
      "metadata": {
        "colab": {
          "base_uri": "https://localhost:8080/"
        },
        "id": "1ooMmzU0RRaU",
        "outputId": "560ca123-2a5d-430f-c1b4-ab290d3921cc"
      },
      "source": [
        "a =[3,'NaN',4,3]\n",
        "print('NaN' in a)\n",
        "a.pop(2)\n",
        "print(a)"
      ],
      "execution_count": 47,
      "outputs": [
        {
          "output_type": "stream",
          "text": [
            "True\n",
            "[3, 'NaN', 3]\n"
          ],
          "name": "stdout"
        }
      ]
    },
    {
      "cell_type": "code",
      "metadata": {
        "id": "-AtYVAQeKvfC"
      },
      "source": [
        "def clean_data(x,y):\n",
        "    # Elimina las filas de NaN y te dice cuales son los parámetros que han dado error\n",
        "    \n",
        "    index = 0;\n",
        "    nans = [];\n",
        "    for file in y:\n",
        "      \n",
        "      if 'NaN' in file:\n",
        "        nans.append(index)\n",
        "        print(x[index])\n",
        "\n",
        "      index += 1\n",
        "\n",
        "    for i in nans:\n",
        "      x.pop(i)\n",
        "      y.pop(i)"
      ],
      "execution_count": 67,
      "outputs": []
    },
    {
      "cell_type": "code",
      "metadata": {
        "colab": {
          "base_uri": "https://localhost:8080/"
        },
        "id": "PTuW-LEuSxio",
        "outputId": "5ada3ffe-9159-4088-c227-672ff4bea8ad"
      },
      "source": [
        "a = [[3,4,5],['NaN','NaN','NaN']]\n",
        "b = [2,3]\n",
        "clean_data(b,a)\n",
        "\n",
        "print(a)\n",
        "print(b)"
      ],
      "execution_count": 68,
      "outputs": [
        {
          "output_type": "stream",
          "text": [
            "3\n",
            "[[3, 4, 5]]\n",
            "[2]\n"
          ],
          "name": "stdout"
        }
      ]
    },
    {
      "cell_type": "code",
      "metadata": {
        "id": "0Em1Z9nYUBx6"
      },
      "source": [
        "x = []"
      ],
      "execution_count": null,
      "outputs": []
    },
    {
      "cell_type": "code",
      "metadata": {
        "id": "PKIJSyB3T1eO",
        "colab": {
          "base_uri": "https://localhost:8080/",
          "height": 195
        },
        "outputId": "19844ea9-98a7-4347-a369-0ab81665f2f8"
      },
      "source": [
        "open('main.py')\n",
        "import main as mn\n",
        "mn.get_transmissiondata1()"
      ],
      "execution_count": 99,
      "outputs": [
        {
          "output_type": "error",
          "ename": "AttributeError",
          "evalue": "ignored",
          "traceback": [
            "\u001b[0;31m---------------------------------------------------------------------------\u001b[0m",
            "\u001b[0;31mAttributeError\u001b[0m                            Traceback (most recent call last)",
            "\u001b[0;32m<ipython-input-99-071c87f55d7f>\u001b[0m in \u001b[0;36m<module>\u001b[0;34m()\u001b[0m\n\u001b[1;32m      1\u001b[0m \u001b[0mopen\u001b[0m\u001b[0;34m(\u001b[0m\u001b[0;34m'main.py'\u001b[0m\u001b[0;34m)\u001b[0m\u001b[0;34m\u001b[0m\u001b[0;34m\u001b[0m\u001b[0m\n\u001b[1;32m      2\u001b[0m \u001b[0;32mimport\u001b[0m \u001b[0mmain\u001b[0m \u001b[0;32mas\u001b[0m \u001b[0mmn\u001b[0m\u001b[0;34m\u001b[0m\u001b[0;34m\u001b[0m\u001b[0m\n\u001b[0;32m----> 3\u001b[0;31m \u001b[0mmn\u001b[0m\u001b[0;34m.\u001b[0m\u001b[0mget_transmissiondata1\u001b[0m\u001b[0;34m(\u001b[0m\u001b[0;34m)\u001b[0m\u001b[0;34m\u001b[0m\u001b[0;34m\u001b[0m\u001b[0m\n\u001b[0m",
            "\u001b[0;31mAttributeError\u001b[0m: module 'main' has no attribute 'get_transmissiondata1'"
          ]
        }
      ]
    },
    {
      "cell_type": "code",
      "metadata": {
        "colab": {
          "base_uri": "https://localhost:8080/"
        },
        "id": "rBId5w7CBdHV",
        "outputId": "ee0190b4-d63b-4c29-e4c4-3968cb4e8b71"
      },
      "source": [
        "x = np.loadtxt('/content/TFG/data/Input_all.txt')\n",
        "y = np.loadtxt('/content/TFG/data/Output_all.txt')\n",
        "print(y.shape)\n",
        "\n",
        "clean_data(x,y)\n",
        "print(y.shape)\n"
      ],
      "execution_count": 124,
      "outputs": [
        {
          "output_type": "stream",
          "text": [
            "(23046, 8)\n"
          ],
          "name": "stdout"
        },
        {
          "output_type": "stream",
          "text": [
            "/usr/local/lib/python3.7/dist-packages/ipykernel_launcher.py:8: FutureWarning: elementwise comparison failed; returning scalar instead, but in the future will perform elementwise comparison\n",
            "  \n"
          ],
          "name": "stderr"
        },
        {
          "output_type": "stream",
          "text": [
            "(23046, 8)\n"
          ],
          "name": "stdout"
        }
      ]
    },
    {
      "cell_type": "code",
      "metadata": {
        "colab": {
          "base_uri": "https://localhost:8080/"
        },
        "id": "rle71inbZBkC",
        "outputId": "6106f0b0-726a-43fb-dad4-ea30d1149a3f"
      },
      "source": [
        "print(x[0][2])"
      ],
      "execution_count": 123,
      "outputs": [
        {
          "output_type": "stream",
          "text": [
            "0.0\n"
          ],
          "name": "stdout"
        }
      ]
    },
    {
      "cell_type": "code",
      "metadata": {
        "id": "rLrdLFMaZDiw"
      },
      "source": [
        ""
      ],
      "execution_count": null,
      "outputs": []
    }
  ]
}